{
 "cells": [
  {
   "cell_type": "markdown",
   "metadata": {
    "id": "uijEE1sVerY9"
   },
   "source": [
    "# Detecting Bias in Social Media Posts"
   ]
  },
  {
   "cell_type": "markdown",
   "metadata": {
    "id": "GOGzKH8Ae9QT"
   },
   "source": [
    "Data provided by Data For Everyone Library on Crowdflower and downloaded from Kaggle."
   ]
  },
  {
   "cell_type": "markdown",
   "metadata": {
    "id": "1V1BuQGDeUt0"
   },
   "source": [
    "### 1.0 Data Preprocessing"
   ]
  },
  {
   "cell_type": "code",
   "execution_count": 1,
   "metadata": {
    "colab": {
     "base_uri": "https://localhost:8080/",
     "height": 244
    },
    "executionInfo": {
     "elapsed": 2245,
     "status": "ok",
     "timestamp": 1683317299081,
     "user": {
      "displayName": "Rachel Thirumalai",
      "userId": "09023468322964245405"
     },
     "user_tz": 240
    },
    "id": "iUJQKvMFeTz-",
    "outputId": "cca2c11c-fa2c-4ef4-a52b-bdefa3ab845e"
   },
   "outputs": [],
   "source": [
    "import matplotlib.pyplot as plt\n",
    "import pandas as pd\n",
    "from sklearn.feature_extraction.text import CountVectorizer\n",
    "\n",
    "data = pd.read_csv(\"political_social_media.csv\", encoding='iso-8859-1')\n",
    "data.head(1)\n",
    "\n",
    "bias_data = data['bias']\n",
    "text_data = data['text']"
   ]
  },
  {
   "cell_type": "code",
   "execution_count": 2,
   "metadata": {
    "colab": {
     "base_uri": "https://localhost:8080/"
    },
    "executionInfo": {
     "elapsed": 358,
     "status": "ok",
     "timestamp": 1683317299432,
     "user": {
      "displayName": "Rachel Thirumalai",
      "userId": "09023468322964245405"
     },
     "user_tz": 240
    },
    "id": "cUHpL3HksuVr",
    "outputId": "5ae26d59-df26-4bfb-ee6a-ef600aa782f6"
   },
   "outputs": [
    {
     "name": "stdout",
     "output_type": "stream",
     "text": [
      "  (0, 11538)\t1\n",
      "  (0, 3957)\t1\n",
      "  (0, 17022)\t1\n",
      "  (0, 6994)\t1\n",
      "  (0, 11617)\t1\n",
      "  (0, 7938)\t1\n",
      "  (0, 4487)\t1\n",
      "  (0, 1913)\t1\n",
      "  (0, 3115)\t1\n",
      "  (0, 12813)\t1\n",
      "  (0, 8198)\t1\n",
      "  (0, 5434)\t1\n"
     ]
    }
   ],
   "source": [
    "vectorizer= CountVectorizer()\n",
    "X = vectorizer.fit_transform(text_data)\n",
    "featurenames = vectorizer.get_feature_names_out()\n",
    "print(X[1])"
   ]
  },
  {
   "cell_type": "markdown",
   "metadata": {
    "id": "GMqX9gcReY4T"
   },
   "source": [
    "### 2.0 Data Splits"
   ]
  },
  {
   "cell_type": "code",
   "execution_count": 3,
   "metadata": {
    "colab": {
     "base_uri": "https://localhost:8080/"
    },
    "executionInfo": {
     "elapsed": 33,
     "status": "ok",
     "timestamp": 1683317299435,
     "user": {
      "displayName": "Rachel Thirumalai",
      "userId": "09023468322964245405"
     },
     "user_tz": 240
    },
    "id": "MAtR2eQbedEt",
    "outputId": "98d86ab8-8f2b-4c1c-8b0b-054cf7cb320e"
   },
   "outputs": [
    {
     "data": {
      "text/plain": [
       "(500, 18220)"
      ]
     },
     "execution_count": 3,
     "metadata": {},
     "output_type": "execute_result"
    }
   ],
   "source": [
    "from sklearn.model_selection import train_test_split\n",
    "\n",
    "# X = text, Y = bias\n",
    "X_train, X_vt, Y_train, Y_vt = train_test_split(X, bias_data, train_size=0.8)\n",
    "X_validation, X_test, Y_validation, Y_test = train_test_split(X_vt, Y_vt, test_size=0.5)\n",
    "\n",
    "X_train.shape\n",
    "X_validation.shape\n",
    "X_test.shape"
   ]
  },
  {
   "cell_type": "markdown",
   "metadata": {
    "id": "acyWKBL4edlS"
   },
   "source": [
    "### 3.0 Classifiers"
   ]
  },
  {
   "cell_type": "markdown",
   "metadata": {
    "id": "xumiDnYYXZ0v"
   },
   "source": [
    "###### 3.1 SVM"
   ]
  },
  {
   "cell_type": "code",
   "execution_count": 4,
   "metadata": {
    "colab": {
     "base_uri": "https://localhost:8080/"
    },
    "executionInfo": {
     "elapsed": 8766,
     "status": "ok",
     "timestamp": 1683317308185,
     "user": {
      "displayName": "Rachel Thirumalai",
      "userId": "09023468322964245405"
     },
     "user_tz": 240
    },
    "id": "GFTafaC4Xfhp",
    "outputId": "50ad6c0d-d941-47a3-ac0d-dffa5ea8a6ee"
   },
   "outputs": [
    {
     "name": "stdout",
     "output_type": "stream",
     "text": [
      "Training accuracy = 0.8385\n",
      "Validation accuracy = 0.734\n",
      "Test accuracy = 0.748\n"
     ]
    }
   ],
   "source": [
    "from sklearn.svm import SVC\n",
    "\n",
    "svc = SVC().fit(X_train, Y_train) # default args\n",
    "\n",
    "print(\"Training accuracy = {}\".format(svc.score(X_train, Y_train)))\n",
    "print(\"Validation accuracy = {}\".format(svc.score(X_validation, Y_validation)))\n",
    "print(\"Test accuracy = {}\".format(svc.score(X_test, Y_test)))"
   ]
  },
  {
   "cell_type": "markdown",
   "metadata": {
    "id": "B86CiFycO-9u"
   },
   "source": [
    "##### 3.2 Logistic Regression"
   ]
  },
  {
   "cell_type": "code",
   "execution_count": 5,
   "metadata": {
    "colab": {
     "base_uri": "https://localhost:8080/"
    },
    "executionInfo": {
     "elapsed": 1324,
     "status": "ok",
     "timestamp": 1683317356059,
     "user": {
      "displayName": "Rachel Thirumalai",
      "userId": "09023468322964245405"
     },
     "user_tz": 240
    },
    "id": "ZU9e8rzoPCVx",
    "outputId": "3f0b7906-c101-4fba-b97c-326dd36f51a6"
   },
   "outputs": [
    {
     "name": "stdout",
     "output_type": "stream",
     "text": [
      "Training accuracy = 0.986\n",
      "Validation accuracy = 0.74\n",
      "Test accuracy = 0.762\n"
     ]
    }
   ],
   "source": [
    "from sklearn.linear_model import LogisticRegression\n",
    "\n",
    "classifier = LogisticRegression()\n",
    "classifier.fit(X_train, Y_train)\n",
    "\n",
    "print(\"Training accuracy = {}\".format(classifier.score(X_train, Y_train)))\n",
    "print(\"Validation accuracy = {}\".format(classifier.score(X_validation, Y_validation)))\n",
    "print(\"Test accuracy = {}\".format(classifier.score(X_test, Y_test)))\n"
   ]
  },
  {
   "cell_type": "markdown",
   "metadata": {
    "id": "kFoWpXXGeqVJ"
   },
   "source": [
    "### 4.0 Hyper-parameter training"
   ]
  },
  {
   "cell_type": "code",
   "execution_count": 6,
   "metadata": {
    "id": "-tBXAVGeT-Jc"
   },
   "outputs": [],
   "source": [
    "from sklearn.model_selection import GridSearchCV"
   ]
  },
  {
   "cell_type": "markdown",
   "metadata": {
    "id": "6R1xbpHx7Msl"
   },
   "source": [
    "##### 4.1 SVM\n",
    "\n",
    "This model has the following parameters with default values:\n",
    "*  C represents the regularization parameter and defaults to 1.0\n",
    "*  Kernel is kernel type to be used by the algorithm and defaults as rbf\n",
    "*  Gamma is the kernel coefficient and defaults to scale (this does not apply to the linear kernel which instead uses a default degree of 2)"
   ]
  },
  {
   "cell_type": "code",
   "execution_count": 7,
   "metadata": {
    "colab": {
     "base_uri": "https://localhost:8080/"
    },
    "executionInfo": {
     "elapsed": 6943,
     "status": "ok",
     "timestamp": 1683317316344,
     "user": {
      "displayName": "Rachel Thirumalai",
      "userId": "09023468322964245405"
     },
     "user_tz": 240
    },
    "id": "N9vrhobNevWi",
    "outputId": "3f3f11eb-75d8-45f0-eea8-e713bfc73fff"
   },
   "outputs": [
    {
     "name": "stdout",
     "output_type": "stream",
     "text": [
      "Parameters: {'C': 0.1, 'gamma': 'scale', 'kernel': 'linear'} resulting in validation accuracy: 0.7120\n",
      "Parameters: {'C': 0.1, 'gamma': 'scale', 'kernel': 'sigmoid'} resulting in validation accuracy: 0.7240\n",
      "Parameters: {'C': 0.1, 'gamma': 'scale', 'kernel': 'rbf'} resulting in validation accuracy: 0.7240\n",
      "Parameters: {'C': 0.1, 'gamma': 'auto', 'kernel': 'linear'} resulting in validation accuracy: 0.7120\n",
      "Parameters: {'C': 0.1, 'gamma': 'auto', 'kernel': 'sigmoid'} resulting in validation accuracy: 0.7240\n",
      "Parameters: {'C': 0.1, 'gamma': 'auto', 'kernel': 'rbf'} resulting in validation accuracy: 0.7240\n",
      "Parameters: {'C': 1, 'gamma': 'scale', 'kernel': 'linear'} resulting in validation accuracy: 0.7200\n",
      "Parameters: {'C': 1, 'gamma': 'scale', 'kernel': 'sigmoid'} resulting in validation accuracy: 0.7260\n",
      "Parameters: {'C': 1, 'gamma': 'scale', 'kernel': 'rbf'} resulting in validation accuracy: 0.7180\n",
      "Parameters: {'C': 1, 'gamma': 'auto', 'kernel': 'linear'} resulting in validation accuracy: 0.7200\n",
      "Parameters: {'C': 1, 'gamma': 'auto', 'kernel': 'sigmoid'} resulting in validation accuracy: 0.7240\n",
      "Parameters: {'C': 1, 'gamma': 'auto', 'kernel': 'rbf'} resulting in validation accuracy: 0.7240\n",
      "Parameters: {'C': 10, 'gamma': 'scale', 'kernel': 'linear'} resulting in validation accuracy: 0.7200\n",
      "Parameters: {'C': 10, 'gamma': 'scale', 'kernel': 'sigmoid'} resulting in validation accuracy: 0.6880\n",
      "Parameters: {'C': 10, 'gamma': 'scale', 'kernel': 'rbf'} resulting in validation accuracy: 0.7060\n",
      "Parameters: {'C': 10, 'gamma': 'auto', 'kernel': 'linear'} resulting in validation accuracy: 0.7200\n",
      "Parameters: {'C': 10, 'gamma': 'auto', 'kernel': 'sigmoid'} resulting in validation accuracy: 0.7260\n",
      "Parameters: {'C': 10, 'gamma': 'auto', 'kernel': 'rbf'} resulting in validation accuracy: 0.7240\n",
      "Parameters: {'C': 100, 'gamma': 'scale', 'kernel': 'linear'} resulting in validation accuracy: 0.7200\n",
      "Parameters: {'C': 100, 'gamma': 'scale', 'kernel': 'sigmoid'} resulting in validation accuracy: 0.6280\n",
      "Parameters: {'C': 100, 'gamma': 'scale', 'kernel': 'rbf'} resulting in validation accuracy: 0.7180\n",
      "Parameters: {'C': 100, 'gamma': 'auto', 'kernel': 'linear'} resulting in validation accuracy: 0.7200\n",
      "Parameters: {'C': 100, 'gamma': 'auto', 'kernel': 'sigmoid'} resulting in validation accuracy: 0.7220\n",
      "Parameters: {'C': 100, 'gamma': 'auto', 'kernel': 'rbf'} resulting in validation accuracy: 0.7180\n"
     ]
    }
   ],
   "source": [
    "# Recommend running with GPU\n",
    "parameters = {'C': [0.1, 1, 10, 100],\n",
    "              'kernel': ['linear', 'sigmoid', 'rbf'],\n",
    "             'gamma': ['scale', 'auto'] }\n",
    "\n",
    "svc_model = SVC()\n",
    "grid_svc = GridSearchCV(svc_model, parameters)\n",
    "grid_svc.fit(X_validation, Y_validation)\n",
    "hyper = grid_svc.best_params_\n",
    "\n",
    "results = grid_svc.cv_results_\n",
    "for i in range(len(results['params'])):\n",
    "    print(\"Parameters: {} resulting in validation accuracy: {:.4f}\".format(results['params'][i], results['mean_test_score'][i]))\n"
   ]
  },
  {
   "cell_type": "code",
   "execution_count": 8,
   "metadata": {
    "colab": {
     "base_uri": "https://localhost:8080/"
    },
    "executionInfo": {
     "elapsed": 6168,
     "status": "ok",
     "timestamp": 1683317322498,
     "user": {
      "displayName": "Rachel Thirumalai",
      "userId": "09023468322964245405"
     },
     "user_tz": 240
    },
    "id": "mU4uIVtyBzVB",
    "outputId": "3fd468f5-2151-46ba-9f4d-66cc731d0b1e"
   },
   "outputs": [
    {
     "name": "stdout",
     "output_type": "stream",
     "text": [
      "Test accuracy for best parameters = 0.706\n",
      "Validation accuracy for best parameters = 0.68\n",
      "Best value for C = 1\n",
      "Best value for gamma = scale\n",
      "Best kernel = sigmoid\n"
     ]
    }
   ],
   "source": [
    "svc_best = SVC(C=hyper['C'], gamma=hyper['gamma'], kernel=hyper['kernel']).fit(X_train, Y_train)\n",
    "print(\"Test accuracy for best parameters = {}\".format(svc_best.score(X_test, Y_test)))\n",
    "print(\"Validation accuracy for best parameters = {}\".format(svc_best.score(X_validation, Y_validation)))\n",
    "print(\"Best value for C = {}\".format(hyper['C']))\n",
    "print(\"Best value for gamma = {}\".format(hyper['gamma']))\n",
    "print(\"Best kernel = {}\".format(hyper['kernel']))"
   ]
  },
  {
   "cell_type": "markdown",
   "metadata": {
    "id": "vGwOptagSlOb"
   },
   "source": [
    "##### 4.2 Logistic Regression"
   ]
  },
  {
   "cell_type": "markdown",
   "metadata": {
    "id": "heUZA_q-VLFz"
   },
   "source": [
    "The model has the following hyperparameters:\n",
    "\n",
    "*   max_iter represents the number of iterations the solver take to converge and defaults to 100\n",
    "*   C is the inverse of regularization strength and deafaults at 1\n",
    "*   solver represents the algorithm that is used in the optimization problem and defaults to 'lbfgs'\n",
    "\n",
    "\n",
    "\n"
   ]
  },
  {
   "cell_type": "code",
   "execution_count": 9,
   "metadata": {
    "colab": {
     "base_uri": "https://localhost:8080/"
    },
    "executionInfo": {
     "elapsed": 17732,
     "status": "ok",
     "timestamp": 1683317340221,
     "user": {
      "displayName": "Rachel Thirumalai",
      "userId": "09023468322964245405"
     },
     "user_tz": 240
    },
    "id": "5R7NKj7MSrzs",
    "outputId": "17b2514f-1577-4923-f274-26d715ae3397"
   },
   "outputs": [
    {
     "name": "stdout",
     "output_type": "stream",
     "text": [
      "Parameters: {'C': 0.1, 'max_iter': 100, 'solver': 'lbfgs'} resulting in validation accuracy: 0.7160\n",
      "Parameters: {'C': 0.1, 'max_iter': 100, 'solver': 'liblinear'} resulting in validation accuracy: 0.7160\n",
      "Parameters: {'C': 0.1, 'max_iter': 1000, 'solver': 'lbfgs'} resulting in validation accuracy: 0.7160\n",
      "Parameters: {'C': 0.1, 'max_iter': 1000, 'solver': 'liblinear'} resulting in validation accuracy: 0.7160\n",
      "Parameters: {'C': 0.6, 'max_iter': 100, 'solver': 'lbfgs'} resulting in validation accuracy: 0.7200\n",
      "Parameters: {'C': 0.6, 'max_iter': 100, 'solver': 'liblinear'} resulting in validation accuracy: 0.7200\n",
      "Parameters: {'C': 0.6, 'max_iter': 1000, 'solver': 'lbfgs'} resulting in validation accuracy: 0.7200\n",
      "Parameters: {'C': 0.6, 'max_iter': 1000, 'solver': 'liblinear'} resulting in validation accuracy: 0.7200\n",
      "Parameters: {'C': 1, 'max_iter': 100, 'solver': 'lbfgs'} resulting in validation accuracy: 0.7220\n",
      "Parameters: {'C': 1, 'max_iter': 100, 'solver': 'liblinear'} resulting in validation accuracy: 0.7180\n",
      "Parameters: {'C': 1, 'max_iter': 1000, 'solver': 'lbfgs'} resulting in validation accuracy: 0.7220\n",
      "Parameters: {'C': 1, 'max_iter': 1000, 'solver': 'liblinear'} resulting in validation accuracy: 0.7180\n",
      "Parameters: {'C': 10, 'max_iter': 100, 'solver': 'lbfgs'} resulting in validation accuracy: 0.7200\n",
      "Parameters: {'C': 10, 'max_iter': 100, 'solver': 'liblinear'} resulting in validation accuracy: 0.7160\n",
      "Parameters: {'C': 10, 'max_iter': 1000, 'solver': 'lbfgs'} resulting in validation accuracy: 0.7200\n",
      "Parameters: {'C': 10, 'max_iter': 1000, 'solver': 'liblinear'} resulting in validation accuracy: 0.7160\n"
     ]
    }
   ],
   "source": [
    "from sklearn.linear_model import LogisticRegression\n",
    "\n",
    "parameters = {'C': [0.1, 0.6, 1, 10],\n",
    "              'max_iter': [100,1000],\n",
    "              'solver':['lbfgs','liblinear']}\n",
    "\n",
    "lr_classifier = LogisticRegression()\n",
    "grid_lr = GridSearchCV(lr_classifier, parameters)\n",
    "grid_lr.fit(X_validation, Y_validation)\n",
    "hyper = grid_lr.best_params_\n",
    "\n",
    "results = grid_lr.cv_results_\n",
    "for i in range(len(results['params'])):\n",
    "    print(\"Parameters: {} resulting in validation accuracy: {:.4f}\".format(results['params'][i], results['mean_test_score'][i]))\n",
    "\n"
   ]
  },
  {
   "cell_type": "code",
   "execution_count": 10,
   "metadata": {
    "colab": {
     "base_uri": "https://localhost:8080/"
    },
    "executionInfo": {
     "elapsed": 218,
     "status": "ok",
     "timestamp": 1683317340405,
     "user": {
      "displayName": "Rachel Thirumalai",
      "userId": "09023468322964245405"
     },
     "user_tz": 240
    },
    "id": "inhCEiOYySBG",
    "outputId": "8bd31be2-ea5a-4666-d51f-3488d478d31c"
   },
   "outputs": [
    {
     "name": "stdout",
     "output_type": "stream",
     "text": [
      "Validation accuracy for best parameters = 0.74\n",
      "Test accuracy for best parameters = 0.762\n",
      "Best value for C = 1\n",
      "Best value for max_iter = 100\n",
      "Best solver = lbfgs\n"
     ]
    }
   ],
   "source": [
    "lr_best = LogisticRegression(C=hyper['C'], max_iter=hyper['max_iter'], solver=hyper['solver']).fit(X_train, Y_train)\n",
    "print(\"Validation accuracy for best parameters = {}\".format(lr_best.score(X_validation, Y_validation)))\n",
    "print(\"Test accuracy for best parameters = {}\".format(lr_best.score(X_test, Y_test)))\n",
    "print(\"Best value for C = {}\".format(hyper['C']))\n",
    "print(\"Best value for max_iter = {}\".format(hyper['max_iter']))\n",
    "print(\"Best solver = {}\".format(hyper['solver']))"
   ]
  },
  {
   "cell_type": "markdown",
   "metadata": {
    "id": "oVEWLbycevq9"
   },
   "source": [
    "### 5.0 Analysis"
   ]
  },
  {
   "cell_type": "markdown",
   "metadata": {
    "id": "cX0kEu1je72m"
   },
   "source": [
    "#### Model Evaluation and Improvement Strategies\n",
    "\n",
    "##### Model Comparison\n",
    "- **Logistic Regression** outperforms SVM in prediction accuracy on both training and test sets, with default values and after hyperparameter tuning.  \n",
    "- Both models have similar validation accuracy; overall difference is small.  \n",
    "- Reasons Logistic Regression performed better:  \n",
    "  - SVMs require more fine-tuning, unnecessary for simple datasets of words and their biases.  \n",
    "  - Logistic Regression handles balanced datasets effectively.  \n",
    "\n",
    "###### Potential Improvements – Preprocessing\n",
    "- Remove stop words (e.g., \"and,\" \"a,\" \"but,\" \"or\").  \n",
    "- Remove punctuation, numbers, hashtags, \"RT,\" URLs, emojis, and mentions (@usernames).  \n",
    "- Convert text to lowercase.  \n",
    "- Apply stemming to reduce noise, redundancy, and dimensionality.  \n",
    "\n",
    "###### Potential Improvements – Using Pre-trained Language Models\n",
    "- Models like XLNet, BERT, or GPT can handle complex patterns in text (colloquialism, humor, sarcasm).  \n",
    "- Steps for using pre-trained models:  \n",
    "  - Load the language model and tokenize the dataset appropriately.  \n",
    "  - Fine-tune the model on labeled data (e.g., \"bias\" column: neutral or partisan).  \n",
    "  - Update model weights to improve predictions.  \n",
    "- Fine-tuning pre-trained models can significantly improve classification accuracy for complex text like tweets.\n"
   ]
  }
 ],
 "metadata": {
  "accelerator": "GPU",
  "colab": {
   "provenance": []
  },
  "gpuClass": "standard",
  "kernelspec": {
   "display_name": "Python 3 (ipykernel)",
   "language": "python",
   "name": "python3"
  },
  "language_info": {
   "codemirror_mode": {
    "name": "ipython",
    "version": 3
   },
   "file_extension": ".py",
   "mimetype": "text/x-python",
   "name": "python",
   "nbconvert_exporter": "python",
   "pygments_lexer": "ipython3",
   "version": "3.9.7"
  }
 },
 "nbformat": 4,
 "nbformat_minor": 1
}
