{
 "cells": [
  {
   "cell_type": "markdown",
   "id": "3627d829",
   "metadata": {},
   "source": [
    "# ETL Pipeline"
   ]
  },
  {
   "cell_type": "markdown",
   "id": "69a88fed",
   "metadata": {},
   "source": [
    "The following resources were used to author a segment of an ETL pipeline:\n",
    "- a CSV file from Kaggle for the S&P 500 for 5 years: https://www.kaggle.com/datasets/camnugent/sandp500\n",
    "- another CSV file from Kaggle for Tweets expressing airline sentiment: https://www.kaggle.com/datasets/crowdflower/twitter-airline-sentiment"
   ]
  },
  {
   "cell_type": "markdown",
   "id": "522a5f02",
   "metadata": {},
   "source": [
    "#### Import Necessary Libraries"
   ]
  },
  {
   "cell_type": "code",
   "execution_count": 12,
   "id": "b8adb3c1",
   "metadata": {},
   "outputs": [],
   "source": [
    "import os\n",
    "import json\n",
    "import numpy\n",
    "import datetime\n",
    "import pandas as pd\n",
    "import csv\n",
    "import requests\n",
    "import requests.exceptions\n",
    "import pymongo\n",
    "from sqlalchemy import create_engine"
   ]
  },
  {
   "cell_type": "markdown",
   "id": "3f888956",
   "metadata": {},
   "source": [
    "#### Declare and Assign Connection Variables for MySQL, MongoDB, & Databases: Change for your credentials"
   ]
  },
  {
   "cell_type": "code",
   "execution_count": 13,
   "id": "8c6d189c",
   "metadata": {},
   "outputs": [],
   "source": [
    "host_name = \"localhost\"\n",
    "ports = {\"mongo\" : 27017, \"mysql\" : 3306}\n",
    "\n",
    "user_id = \"\"\n",
    "pwd = \"\"\n",
    "\n",
    "src_dbname = \"s&p500_twitter\"\n",
    "dst_dbname = \"stocks_and_tweets\""
   ]
  },
  {
   "cell_type": "markdown",
   "id": "b5dae030",
   "metadata": {},
   "source": [
    "#### Connect to MongoDB"
   ]
  },
  {
   "cell_type": "code",
   "execution_count": 14,
   "id": "f4e4edb0",
   "metadata": {},
   "outputs": [],
   "source": [
    "conn_str = f\"mongodb://{host_name}:{ports['mongo']}/\"\n",
    "client = pymongo.MongoClient(conn_str)"
   ]
  },
  {
   "cell_type": "markdown",
   "id": "c5f57bc2",
   "metadata": {},
   "source": [
    "#### Define Functions for Getting Data From and Setting Data Into Databases"
   ]
  },
  {
   "cell_type": "code",
   "execution_count": 15,
   "id": "802d4c3a",
   "metadata": {},
   "outputs": [],
   "source": [
    "def get_sql_dataframe(user_id, pwd, host_name, db_name, sql_query):\n",
    "    # Create a connection to the MySQL database\n",
    "    conn_str = f\"mysql+pymysql://{user_id}:{pwd}@{host_name}/{db_name}\"\n",
    "    sqlEngine = create_engine(conn_str, pool_recycle=3600)\n",
    "    \n",
    "    #Invoke the pd.read_sql() function to query the database, and fill a Pandas DataFrame.\n",
    "    conn = sqlEngine.connect()\n",
    "    dframe = pd.read_sql(sql_query, conn);\n",
    "    conn.close()\n",
    "    \n",
    "    return dframe\n",
    "\n",
    "\n",
    "def get_mongo_dataframe(user_id, pwd, host_name, port, db_name, collection, query):\n",
    "    # Create a connection to MongoDB, with or without authentication credentials\n",
    "    if user_id and pwd:\n",
    "        mongo_uri = 'mongodb://%s:%s@%s:%s/%s' % (username, password, host, port, db_name)\n",
    "        client = pymongo.MongoClient(mongo_uri)\n",
    "    else:\n",
    "        conn_str = f\"mongodb://{host_name}:{port}/\"\n",
    "        client = pymongo.MongoClient(conn_str)\n",
    "    \n",
    "    # Query MongoDB, and fill a python list with documents to create a DataFrame \n",
    "    db = client[db_name]\n",
    "    dframe = pd.DataFrame(list(db[collection].find(query)))\n",
    "    dframe.drop(['_id'], axis=1, inplace=True)\n",
    "    client.close()\n",
    "    \n",
    "    return dframe\n",
    "\n",
    "\n",
    "def set_dataframe(user_id, pwd, host_name, db_name, df, table_name, pk_column, db_operation):\n",
    "    # Create a connection to the MySQL database\n",
    "    conn_str = f\"mysql+pymysql://{user_id}:{pwd}@{host_name}/{db_name}\"\n",
    "    sqlEngine = create_engine(conn_str, pool_recycle=3600)\n",
    "    connection = sqlEngine.connect()\n",
    "    \n",
    "    # Invoke the Pandas DataFrame .to_sql( ) function to either create, or append to, a table\n",
    "    if db_operation == \"insert\":\n",
    "        df.to_sql(table_name, con=connection, index=False, if_exists='replace')\n",
    "        sqlEngine.execute(f\"ALTER TABLE {table_name} ADD PRIMARY KEY ({pk_column});\")\n",
    "            \n",
    "    elif db_operation == \"update\":\n",
    "        df.to_sql(table_name, con=connection, index=False, if_exists='append')\n",
    "    \n",
    "    connection.close()"
   ]
  },
  {
   "cell_type": "markdown",
   "id": "f5c0d1f7",
   "metadata": {},
   "source": [
    "### Dealing with CSV or JSON files"
   ]
  },
  {
   "cell_type": "markdown",
   "id": "ec0f249e",
   "metadata": {},
   "source": [
    "The following sections deals with CSV or JSON files. The option to convert to or from either exists, but for the sake of this project, the file \"HistoricalQuotes.csv\" is stored in the github repo alongside this page and will be converted to a JSON and used from there."
   ]
  },
  {
   "cell_type": "markdown",
   "id": "c0e9266a",
   "metadata": {},
   "source": [
    "#### Load CSV File "
   ]
  },
  {
   "cell_type": "code",
   "execution_count": 16,
   "id": "51c4f3b5",
   "metadata": {},
   "outputs": [],
   "source": [
    "try:\n",
    "    data_dir = os.path.join(os.getcwd())\n",
    "    data_file = os.path.join(data_dir, 'all_stocks_5yr.csv')\n",
    "\n",
    "    df = pd.read_csv(data_file, header=0, index_col=0)\n",
    "    df.head(2)\n",
    "except:\n",
    "    print(\"Error loading all_stocks_5yr.csv\")"
   ]
  },
  {
   "cell_type": "code",
   "execution_count": 17,
   "id": "6cbaebbe",
   "metadata": {},
   "outputs": [],
   "source": [
    "try:  \n",
    "    data_dir = os.path.join(os.getcwd())\n",
    "    data_file = os.path.join(data_dir, 'Tweets.csv')\n",
    "\n",
    "    df = pd.read_csv(data_file, header=0, index_col=0)\n",
    "    df.head(2)\n",
    "except:\n",
    "    print(\"Error loading Tweets.csv\")"
   ]
  },
  {
   "cell_type": "markdown",
   "id": "b3afc718",
   "metadata": {},
   "source": [
    "#### Convert CSV into JSON (change file paths)"
   ]
  },
  {
   "cell_type": "code",
   "execution_count": 18,
   "id": "da01a48d",
   "metadata": {},
   "outputs": [],
   "source": [
    "# the below code is adapted from https://pythonexamples.org/python-csv-to-json/\n",
    "def csv_to_json(csvFilePath, jsonFilePath):\n",
    "    jsonArray = []\n",
    "      \n",
    "    #read csv file\n",
    "    with open(csvFilePath, encoding='utf-8') as csvf: \n",
    "        #load csv file data using csv library's dictionary reader\n",
    "        csvReader = csv.DictReader(csvf) \n",
    "\n",
    "        #convert each csv row into python dict\n",
    "        for row in csvReader: \n",
    "            #add this python dict to json array\n",
    "            jsonArray.append(row)\n",
    "  \n",
    "    #convert python jsonArray to JSON String and write to file\n",
    "    with open(jsonFilePath, 'w', encoding='utf-8') as jsonf: \n",
    "        jsonString = json.dumps(jsonArray, indent=4)\n",
    "        jsonf.write(jsonString)\n"
   ]
  },
  {
   "cell_type": "code",
   "execution_count": 19,
   "id": "3603ad82",
   "metadata": {},
   "outputs": [],
   "source": [
    "try:\n",
    "    csvFilePath = r'all_stocks_5yr.csv'\n",
    "    jsonFilePath = r'all_stocks_5yr.json'\n",
    "    csv_to_json(csvFilePath, jsonFilePath)\n",
    "except:\n",
    "    print(\"Error converting all_stocks_5yr.csv to JSON file.\")"
   ]
  },
  {
   "cell_type": "code",
   "execution_count": 20,
   "id": "747a8380",
   "metadata": {},
   "outputs": [],
   "source": [
    "try:\n",
    "    csvFilePath = r'Tweets.csv'\n",
    "    jsonFilePath = r'tweets.json'\n",
    "    csv_to_json(csvFilePath, jsonFilePath)\n",
    "except:\n",
    "    print(\"Error converting Tweets.csv to JSON file.\")"
   ]
  },
  {
   "cell_type": "markdown",
   "id": "2a491512",
   "metadata": {},
   "source": [
    "#### Extra: Convert JSON to CSV (change file paths)"
   ]
  },
  {
   "cell_type": "code",
   "execution_count": 21,
   "id": "393825f7",
   "metadata": {},
   "outputs": [],
   "source": [
    "def json_to_csv(jsonFilePath, csvFilePath):    \n",
    "    #use pandas for conversion\n",
    "    with open(jsonFilePath, encoding='utf-8') as input:\n",
    "        df = pd.read_json(input)\n",
    "    df.to_csv(csvFilePath, encoding='utf-8', index=False)\n",
    "    \n",
    "try:   \n",
    "    csvFilePath = r'all_stocks_5yr.csv'\n",
    "    jsonFilePath = r'all_stocks_5yr.json'\n",
    "    json_to_csv(jsonFilePath, csvFilePath)\n",
    "\n",
    "    csvFilePath = r'Tweets.csv'\n",
    "    jsonFilePath = r'tweets.json'\n",
    "    json_to_csv(jsonFilePath, csvFilePath)\n",
    "except:\n",
    "    print(\"Error concerting from JSON to CSV.\")"
   ]
  },
  {
   "cell_type": "markdown",
   "id": "96a2acdf",
   "metadata": {},
   "source": [
    "#### Create the new data warehouse"
   ]
  },
  {
   "cell_type": "code",
   "execution_count": 22,
   "id": "26d0f06b",
   "metadata": {},
   "outputs": [],
   "source": [
    "conn_str = f\"mysql+pymysql://{user_id}:{pwd}@{host_name}\"\n",
    "sqlEngine = create_engine(conn_str, pool_recycle=3600)\n",
    "\n",
    "sqlEngine.execute(f\"DROP DATABASE IF EXISTS `{dst_dbname}`;\")\n",
    "sqlEngine.execute(f\"CREATE DATABASE `{dst_dbname}`;\")\n",
    "sqlEngine.execute(f\"USE {dst_dbname};\")\n",
    "\n",
    "db_name = \"stocks_and_tweets\""
   ]
  },
  {
   "cell_type": "markdown",
   "id": "31a0b73f",
   "metadata": {},
   "source": [
    "#### Populate MongoDB with source data. DO ONLY ONCE!"
   ]
  },
  {
   "cell_type": "code",
   "execution_count": 24,
   "id": "f68a606f",
   "metadata": {},
   "outputs": [],
   "source": [
    "port = ports[\"mongo\"]\n",
    "conn_str = f\"mongodb://{host_name}:{port}/\"\n",
    "client = pymongo.MongoClient(conn_str)\n",
    "db = client[src_dbname]\n",
    "\n",
    "data_dir = os.path.join(os.getcwd())\n",
    "\n",
    "json_files = {\"twitter_sentiment\" : 'tweets.json',\n",
    "              \"stock_data\" : 'all_stocks_5yr.json'\n",
    "             }\n",
    "\n",
    "for file in json_files:\n",
    "    json_file = os.path.join(data_dir, json_files[file])\n",
    "    with open(json_file, 'r') as openfile:\n",
    "        json_object = json.load(openfile)\n",
    "        file = db[file]\n",
    "        result = file.insert_many(json_object)\n",
    "        #print(f\"{file} was successfully loaded.\")\n",
    "        \n",
    "client.close()"
   ]
  },
  {
   "cell_type": "markdown",
   "id": "0823878c",
   "metadata": {},
   "source": [
    "### Create and Populate Tables"
   ]
  },
  {
   "cell_type": "markdown",
   "id": "4bf58108",
   "metadata": {},
   "source": [
    "#### 1.1. Extract Data from the Source MongoDB Collections Into DataFrames"
   ]
  },
  {
   "cell_type": "code",
   "execution_count": 25,
   "id": "f8c4a227",
   "metadata": {},
   "outputs": [
    {
     "data": {
      "text/html": [
       "<div>\n",
       "<style scoped>\n",
       "    .dataframe tbody tr th:only-of-type {\n",
       "        vertical-align: middle;\n",
       "    }\n",
       "\n",
       "    .dataframe tbody tr th {\n",
       "        vertical-align: top;\n",
       "    }\n",
       "\n",
       "    .dataframe thead th {\n",
       "        text-align: right;\n",
       "    }\n",
       "</style>\n",
       "<table border=\"1\" class=\"dataframe\">\n",
       "  <thead>\n",
       "    <tr style=\"text-align: right;\">\n",
       "      <th></th>\n",
       "      <th>date</th>\n",
       "      <th>open</th>\n",
       "      <th>high</th>\n",
       "      <th>low</th>\n",
       "      <th>close</th>\n",
       "      <th>volume</th>\n",
       "      <th>Name</th>\n",
       "    </tr>\n",
       "  </thead>\n",
       "  <tbody>\n",
       "    <tr>\n",
       "      <th>0</th>\n",
       "      <td>2013-02-08</td>\n",
       "      <td>15.07</td>\n",
       "      <td>15.12</td>\n",
       "      <td>14.63</td>\n",
       "      <td>14.75</td>\n",
       "      <td>8407500</td>\n",
       "      <td>AAL</td>\n",
       "    </tr>\n",
       "    <tr>\n",
       "      <th>1</th>\n",
       "      <td>2013-02-11</td>\n",
       "      <td>14.89</td>\n",
       "      <td>15.01</td>\n",
       "      <td>14.26</td>\n",
       "      <td>14.46</td>\n",
       "      <td>8882000</td>\n",
       "      <td>AAL</td>\n",
       "    </tr>\n",
       "  </tbody>\n",
       "</table>\n",
       "</div>"
      ],
      "text/plain": [
       "         date   open   high    low  close   volume Name\n",
       "0  2013-02-08  15.07  15.12  14.63  14.75  8407500  AAL\n",
       "1  2013-02-11  14.89  15.01  14.26  14.46  8882000  AAL"
      ]
     },
     "execution_count": 25,
     "metadata": {},
     "output_type": "execute_result"
    }
   ],
   "source": [
    "query = {}\n",
    "port = ports[\"mongo\"]\n",
    "collection = \"stock_data\"\n",
    "\n",
    "df_stock_data = get_mongo_dataframe(None, None, host_name, port, src_dbname, collection, query)\n",
    "df_stock_data.head(2)\n",
    "#large data set... please give it a second or two"
   ]
  },
  {
   "cell_type": "code",
   "execution_count": 26,
   "id": "bbc99aab",
   "metadata": {},
   "outputs": [
    {
     "data": {
      "text/html": [
       "<div>\n",
       "<style scoped>\n",
       "    .dataframe tbody tr th:only-of-type {\n",
       "        vertical-align: middle;\n",
       "    }\n",
       "\n",
       "    .dataframe tbody tr th {\n",
       "        vertical-align: top;\n",
       "    }\n",
       "\n",
       "    .dataframe thead th {\n",
       "        text-align: right;\n",
       "    }\n",
       "</style>\n",
       "<table border=\"1\" class=\"dataframe\">\n",
       "  <thead>\n",
       "    <tr style=\"text-align: right;\">\n",
       "      <th></th>\n",
       "      <th>tweet_id</th>\n",
       "      <th>airline_sentiment</th>\n",
       "      <th>airline_sentiment_confidence</th>\n",
       "      <th>negativereason</th>\n",
       "      <th>negativereason_confidence</th>\n",
       "      <th>airline</th>\n",
       "      <th>airline_sentiment_gold</th>\n",
       "      <th>name</th>\n",
       "      <th>negativereason_gold</th>\n",
       "      <th>retweet_count</th>\n",
       "      <th>text</th>\n",
       "      <th>tweet_coord</th>\n",
       "      <th>tweet_created</th>\n",
       "      <th>tweet_location</th>\n",
       "      <th>user_timezone</th>\n",
       "    </tr>\n",
       "  </thead>\n",
       "  <tbody>\n",
       "    <tr>\n",
       "      <th>0</th>\n",
       "      <td>570306133677760512</td>\n",
       "      <td>neutral</td>\n",
       "      <td>1.0</td>\n",
       "      <td></td>\n",
       "      <td></td>\n",
       "      <td>Virgin America</td>\n",
       "      <td></td>\n",
       "      <td>cairdin</td>\n",
       "      <td></td>\n",
       "      <td>0</td>\n",
       "      <td>@VirginAmerica What @dhepburn said.</td>\n",
       "      <td></td>\n",
       "      <td>2015-02-24 11:35:52 -0800</td>\n",
       "      <td></td>\n",
       "      <td>Eastern Time (US &amp; Canada)</td>\n",
       "    </tr>\n",
       "    <tr>\n",
       "      <th>1</th>\n",
       "      <td>570301130888122368</td>\n",
       "      <td>positive</td>\n",
       "      <td>0.3486</td>\n",
       "      <td></td>\n",
       "      <td>0.0</td>\n",
       "      <td>Virgin America</td>\n",
       "      <td></td>\n",
       "      <td>jnardino</td>\n",
       "      <td></td>\n",
       "      <td>0</td>\n",
       "      <td>@VirginAmerica plus you've added commercials t...</td>\n",
       "      <td></td>\n",
       "      <td>2015-02-24 11:15:59 -0800</td>\n",
       "      <td></td>\n",
       "      <td>Pacific Time (US &amp; Canada)</td>\n",
       "    </tr>\n",
       "  </tbody>\n",
       "</table>\n",
       "</div>"
      ],
      "text/plain": [
       "             tweet_id airline_sentiment airline_sentiment_confidence  \\\n",
       "0  570306133677760512           neutral                          1.0   \n",
       "1  570301130888122368          positive                       0.3486   \n",
       "\n",
       "  negativereason negativereason_confidence         airline  \\\n",
       "0                                           Virgin America   \n",
       "1                                      0.0  Virgin America   \n",
       "\n",
       "  airline_sentiment_gold      name negativereason_gold retweet_count  \\\n",
       "0                          cairdin                                 0   \n",
       "1                         jnardino                                 0   \n",
       "\n",
       "                                                text tweet_coord  \\\n",
       "0                @VirginAmerica What @dhepburn said.               \n",
       "1  @VirginAmerica plus you've added commercials t...               \n",
       "\n",
       "               tweet_created tweet_location               user_timezone  \n",
       "0  2015-02-24 11:35:52 -0800                 Eastern Time (US & Canada)  \n",
       "1  2015-02-24 11:15:59 -0800                 Pacific Time (US & Canada)  "
      ]
     },
     "execution_count": 26,
     "metadata": {},
     "output_type": "execute_result"
    }
   ],
   "source": [
    "query = {}\n",
    "port = ports[\"mongo\"]\n",
    "collection = \"twitter_sentiment\"\n",
    "\n",
    "df_tweets = get_mongo_dataframe(None, None, host_name, port, src_dbname, collection, query)\n",
    "df_tweets.head(2)"
   ]
  },
  {
   "cell_type": "markdown",
   "id": "a7be1b8a",
   "metadata": {},
   "source": [
    "#### Remove/Modify Columns"
   ]
  },
  {
   "cell_type": "code",
   "execution_count": 27,
   "id": "02a47df8",
   "metadata": {},
   "outputs": [
    {
     "data": {
      "text/html": [
       "<div>\n",
       "<style scoped>\n",
       "    .dataframe tbody tr th:only-of-type {\n",
       "        vertical-align: middle;\n",
       "    }\n",
       "\n",
       "    .dataframe tbody tr th {\n",
       "        vertical-align: top;\n",
       "    }\n",
       "\n",
       "    .dataframe thead th {\n",
       "        text-align: right;\n",
       "    }\n",
       "</style>\n",
       "<table border=\"1\" class=\"dataframe\">\n",
       "  <thead>\n",
       "    <tr style=\"text-align: right;\">\n",
       "      <th></th>\n",
       "      <th>date</th>\n",
       "      <th>open</th>\n",
       "      <th>close</th>\n",
       "      <th>volume</th>\n",
       "      <th>ticker</th>\n",
       "    </tr>\n",
       "  </thead>\n",
       "  <tbody>\n",
       "    <tr>\n",
       "      <th>0</th>\n",
       "      <td>2013-02-08</td>\n",
       "      <td>15.07</td>\n",
       "      <td>14.75</td>\n",
       "      <td>8407500</td>\n",
       "      <td>AAL</td>\n",
       "    </tr>\n",
       "    <tr>\n",
       "      <th>1</th>\n",
       "      <td>2013-02-11</td>\n",
       "      <td>14.89</td>\n",
       "      <td>14.46</td>\n",
       "      <td>8882000</td>\n",
       "      <td>AAL</td>\n",
       "    </tr>\n",
       "  </tbody>\n",
       "</table>\n",
       "</div>"
      ],
      "text/plain": [
       "         date   open  close   volume ticker\n",
       "0  2013-02-08  15.07  14.75  8407500    AAL\n",
       "1  2013-02-11  14.89  14.46  8882000    AAL"
      ]
     },
     "execution_count": 27,
     "metadata": {},
     "output_type": "execute_result"
    }
   ],
   "source": [
    "drop_cols = ['high','low']\n",
    "df_stock_data.drop(drop_cols, axis=1, inplace=True)\n",
    "df_stock_data.rename(columns={\"Name\":\"ticker\",}, inplace=True)\n",
    "\n",
    "df_stock_data.head(2)\n",
    "#large data set... please give it a second or two"
   ]
  },
  {
   "cell_type": "code",
   "execution_count": 28,
   "id": "701ba18b",
   "metadata": {},
   "outputs": [
    {
     "data": {
      "text/html": [
       "<div>\n",
       "<style scoped>\n",
       "    .dataframe tbody tr th:only-of-type {\n",
       "        vertical-align: middle;\n",
       "    }\n",
       "\n",
       "    .dataframe tbody tr th {\n",
       "        vertical-align: top;\n",
       "    }\n",
       "\n",
       "    .dataframe thead th {\n",
       "        text-align: right;\n",
       "    }\n",
       "</style>\n",
       "<table border=\"1\" class=\"dataframe\">\n",
       "  <thead>\n",
       "    <tr style=\"text-align: right;\">\n",
       "      <th></th>\n",
       "      <th>sentiment</th>\n",
       "      <th>sentiment_conf</th>\n",
       "      <th>neg_reason</th>\n",
       "      <th>neg_conf</th>\n",
       "      <th>airline</th>\n",
       "      <th>retweet_count</th>\n",
       "      <th>tweet_date</th>\n",
       "    </tr>\n",
       "  </thead>\n",
       "  <tbody>\n",
       "    <tr>\n",
       "      <th>0</th>\n",
       "      <td>neutral</td>\n",
       "      <td>1.0</td>\n",
       "      <td></td>\n",
       "      <td></td>\n",
       "      <td>Virgin America</td>\n",
       "      <td>0</td>\n",
       "      <td>2015-02-24 11:35:52 -0800</td>\n",
       "    </tr>\n",
       "    <tr>\n",
       "      <th>1</th>\n",
       "      <td>positive</td>\n",
       "      <td>0.3486</td>\n",
       "      <td></td>\n",
       "      <td>0.0</td>\n",
       "      <td>Virgin America</td>\n",
       "      <td>0</td>\n",
       "      <td>2015-02-24 11:15:59 -0800</td>\n",
       "    </tr>\n",
       "  </tbody>\n",
       "</table>\n",
       "</div>"
      ],
      "text/plain": [
       "  sentiment sentiment_conf neg_reason neg_conf         airline retweet_count  \\\n",
       "0   neutral            1.0                      Virgin America             0   \n",
       "1  positive         0.3486                 0.0  Virgin America             0   \n",
       "\n",
       "                  tweet_date  \n",
       "0  2015-02-24 11:35:52 -0800  \n",
       "1  2015-02-24 11:15:59 -0800  "
      ]
     },
     "execution_count": 28,
     "metadata": {},
     "output_type": "execute_result"
    }
   ],
   "source": [
    "drop_cols = ['tweet_id','name','text','tweet_location','airline_sentiment_gold','negativereason_gold','tweet_coord','user_timezone']\n",
    "df_tweets.drop(drop_cols, axis=1, inplace=True)\n",
    "df_tweets.rename(columns={\"tweet_created\":\"tweet_date\",\n",
    "                         \"airline_sentiment\": \"sentiment\",\n",
    "                         \"airline_sentiment_confidence\":\"sentiment_conf\",\n",
    "                         \"negativereason_confidence\":\"neg_conf\",\n",
    "                         \"negativereason\":\"neg_reason\"\n",
    "                        }, inplace=True)\n",
    "\n",
    "df_tweets.head(2)"
   ]
  },
  {
   "cell_type": "code",
   "execution_count": 29,
   "id": "b9a29e2a",
   "metadata": {},
   "outputs": [
    {
     "data": {
      "text/html": [
       "<div>\n",
       "<style scoped>\n",
       "    .dataframe tbody tr th:only-of-type {\n",
       "        vertical-align: middle;\n",
       "    }\n",
       "\n",
       "    .dataframe tbody tr th {\n",
       "        vertical-align: top;\n",
       "    }\n",
       "\n",
       "    .dataframe thead th {\n",
       "        text-align: right;\n",
       "    }\n",
       "</style>\n",
       "<table border=\"1\" class=\"dataframe\">\n",
       "  <thead>\n",
       "    <tr style=\"text-align: right;\">\n",
       "      <th></th>\n",
       "      <th>sentiment</th>\n",
       "      <th>sentiment_conf</th>\n",
       "      <th>neg_reason</th>\n",
       "      <th>neg_conf</th>\n",
       "      <th>airline</th>\n",
       "      <th>retweet_count</th>\n",
       "      <th>tweet_date</th>\n",
       "    </tr>\n",
       "  </thead>\n",
       "  <tbody>\n",
       "    <tr>\n",
       "      <th>0</th>\n",
       "      <td>neutral</td>\n",
       "      <td>1.0</td>\n",
       "      <td></td>\n",
       "      <td></td>\n",
       "      <td>Virgin America</td>\n",
       "      <td>0</td>\n",
       "      <td>2015-02-24</td>\n",
       "    </tr>\n",
       "    <tr>\n",
       "      <th>1</th>\n",
       "      <td>positive</td>\n",
       "      <td>0.3486</td>\n",
       "      <td></td>\n",
       "      <td>0.0</td>\n",
       "      <td>Virgin America</td>\n",
       "      <td>0</td>\n",
       "      <td>2015-02-24</td>\n",
       "    </tr>\n",
       "  </tbody>\n",
       "</table>\n",
       "</div>"
      ],
      "text/plain": [
       "  sentiment sentiment_conf neg_reason neg_conf         airline retweet_count  \\\n",
       "0   neutral            1.0                      Virgin America             0   \n",
       "1  positive         0.3486                 0.0  Virgin America             0   \n",
       "\n",
       "   tweet_date  \n",
       "0  2015-02-24  \n",
       "1  2015-02-24  "
      ]
     },
     "execution_count": 29,
     "metadata": {},
     "output_type": "execute_result"
    }
   ],
   "source": [
    "#Modifying the date in the tweets dataframe\n",
    "df_tweets['tweet_date'] = pd.to_datetime(df_tweets['tweet_date'], format='%Y-%m-%d', exact=True)\n",
    "df_tweets['tweet_date'] = df_tweets['tweet_date'].dt.strftime('%Y-%m-%d')\n",
    "df_tweets.head(2)"
   ]
  },
  {
   "cell_type": "markdown",
   "id": "086d84b7",
   "metadata": {},
   "source": [
    "#### Add Primary Key Column"
   ]
  },
  {
   "cell_type": "code",
   "execution_count": 30,
   "id": "4643d9fb",
   "metadata": {},
   "outputs": [
    {
     "data": {
      "text/html": [
       "<div>\n",
       "<style scoped>\n",
       "    .dataframe tbody tr th:only-of-type {\n",
       "        vertical-align: middle;\n",
       "    }\n",
       "\n",
       "    .dataframe tbody tr th {\n",
       "        vertical-align: top;\n",
       "    }\n",
       "\n",
       "    .dataframe thead th {\n",
       "        text-align: right;\n",
       "    }\n",
       "</style>\n",
       "<table border=\"1\" class=\"dataframe\">\n",
       "  <thead>\n",
       "    <tr style=\"text-align: right;\">\n",
       "      <th></th>\n",
       "      <th>stock_id</th>\n",
       "      <th>date</th>\n",
       "      <th>open</th>\n",
       "      <th>close</th>\n",
       "      <th>volume</th>\n",
       "      <th>ticker</th>\n",
       "    </tr>\n",
       "  </thead>\n",
       "  <tbody>\n",
       "    <tr>\n",
       "      <th>0</th>\n",
       "      <td>1</td>\n",
       "      <td>2013-02-08</td>\n",
       "      <td>15.07</td>\n",
       "      <td>14.75</td>\n",
       "      <td>8407500</td>\n",
       "      <td>AAL</td>\n",
       "    </tr>\n",
       "    <tr>\n",
       "      <th>1</th>\n",
       "      <td>2</td>\n",
       "      <td>2013-02-11</td>\n",
       "      <td>14.89</td>\n",
       "      <td>14.46</td>\n",
       "      <td>8882000</td>\n",
       "      <td>AAL</td>\n",
       "    </tr>\n",
       "  </tbody>\n",
       "</table>\n",
       "</div>"
      ],
      "text/plain": [
       "   stock_id        date   open  close   volume ticker\n",
       "0         1  2013-02-08  15.07  14.75  8407500    AAL\n",
       "1         2  2013-02-11  14.89  14.46  8882000    AAL"
      ]
     },
     "execution_count": 30,
     "metadata": {},
     "output_type": "execute_result"
    }
   ],
   "source": [
    "initial_value = 1\n",
    "df_stock_data.insert(loc=0, column='stock_id', value=range(initial_value, len(df_stock_data) +initial_value))\n",
    "df_stock_data.head(2)"
   ]
  },
  {
   "cell_type": "code",
   "execution_count": 31,
   "id": "38ae0ef5",
   "metadata": {},
   "outputs": [
    {
     "data": {
      "text/html": [
       "<div>\n",
       "<style scoped>\n",
       "    .dataframe tbody tr th:only-of-type {\n",
       "        vertical-align: middle;\n",
       "    }\n",
       "\n",
       "    .dataframe tbody tr th {\n",
       "        vertical-align: top;\n",
       "    }\n",
       "\n",
       "    .dataframe thead th {\n",
       "        text-align: right;\n",
       "    }\n",
       "</style>\n",
       "<table border=\"1\" class=\"dataframe\">\n",
       "  <thead>\n",
       "    <tr style=\"text-align: right;\">\n",
       "      <th></th>\n",
       "      <th>tweet_id</th>\n",
       "      <th>sentiment</th>\n",
       "      <th>sentiment_conf</th>\n",
       "      <th>neg_reason</th>\n",
       "      <th>neg_conf</th>\n",
       "      <th>airline</th>\n",
       "      <th>retweet_count</th>\n",
       "      <th>tweet_date</th>\n",
       "    </tr>\n",
       "  </thead>\n",
       "  <tbody>\n",
       "    <tr>\n",
       "      <th>0</th>\n",
       "      <td>1</td>\n",
       "      <td>neutral</td>\n",
       "      <td>1.0</td>\n",
       "      <td></td>\n",
       "      <td></td>\n",
       "      <td>Virgin America</td>\n",
       "      <td>0</td>\n",
       "      <td>2015-02-24</td>\n",
       "    </tr>\n",
       "    <tr>\n",
       "      <th>1</th>\n",
       "      <td>2</td>\n",
       "      <td>positive</td>\n",
       "      <td>0.3486</td>\n",
       "      <td></td>\n",
       "      <td>0.0</td>\n",
       "      <td>Virgin America</td>\n",
       "      <td>0</td>\n",
       "      <td>2015-02-24</td>\n",
       "    </tr>\n",
       "  </tbody>\n",
       "</table>\n",
       "</div>"
      ],
      "text/plain": [
       "   tweet_id sentiment sentiment_conf neg_reason neg_conf         airline  \\\n",
       "0         1   neutral            1.0                      Virgin America   \n",
       "1         2  positive         0.3486                 0.0  Virgin America   \n",
       "\n",
       "  retweet_count  tweet_date  \n",
       "0             0  2015-02-24  \n",
       "1             0  2015-02-24  "
      ]
     },
     "execution_count": 31,
     "metadata": {},
     "output_type": "execute_result"
    }
   ],
   "source": [
    "initial_value = 1\n",
    "df_tweets.insert(loc=0, column='tweet_id', value=range(initial_value, len(df_tweets) +initial_value))\n",
    "df_tweets.head(2)"
   ]
  },
  {
   "cell_type": "markdown",
   "id": "50c78cf1",
   "metadata": {},
   "source": [
    "#### Load the Transformed DataFrames into the New Data Warehouse by Creating New Tables"
   ]
  },
  {
   "cell_type": "code",
   "execution_count": 32,
   "id": "035bfb0e",
   "metadata": {},
   "outputs": [],
   "source": [
    "dataframe = df_stock_data\n",
    "table_name = 'stock_data'\n",
    "primary_key = 'stock_id'\n",
    "db_operation = \"insert\"\n",
    "\n",
    "set_dataframe(user_id, pwd, host_name, dst_dbname, dataframe, table_name, primary_key, db_operation)"
   ]
  },
  {
   "cell_type": "code",
   "execution_count": 33,
   "id": "8c71e474",
   "metadata": {},
   "outputs": [],
   "source": [
    "dataframe = df_tweets\n",
    "table_name = 'tweet_data'\n",
    "primary_key = 'tweet_id'\n",
    "db_operation = \"insert\"\n",
    "\n",
    "set_dataframe(user_id, pwd, host_name, dst_dbname, dataframe, table_name, primary_key, db_operation)"
   ]
  },
  {
   "cell_type": "markdown",
   "id": "0e95fbec",
   "metadata": {},
   "source": [
    "#### Validate the Tabels"
   ]
  },
  {
   "cell_type": "code",
   "execution_count": 34,
   "id": "e0c6d0fb",
   "metadata": {},
   "outputs": [
    {
     "data": {
      "text/html": [
       "<div>\n",
       "<style scoped>\n",
       "    .dataframe tbody tr th:only-of-type {\n",
       "        vertical-align: middle;\n",
       "    }\n",
       "\n",
       "    .dataframe tbody tr th {\n",
       "        vertical-align: top;\n",
       "    }\n",
       "\n",
       "    .dataframe thead th {\n",
       "        text-align: right;\n",
       "    }\n",
       "</style>\n",
       "<table border=\"1\" class=\"dataframe\">\n",
       "  <thead>\n",
       "    <tr style=\"text-align: right;\">\n",
       "      <th></th>\n",
       "      <th>stock_id</th>\n",
       "      <th>date</th>\n",
       "      <th>open</th>\n",
       "      <th>close</th>\n",
       "      <th>volume</th>\n",
       "      <th>ticker</th>\n",
       "    </tr>\n",
       "  </thead>\n",
       "  <tbody>\n",
       "    <tr>\n",
       "      <th>0</th>\n",
       "      <td>1</td>\n",
       "      <td>2013-02-08</td>\n",
       "      <td>15.07</td>\n",
       "      <td>14.75</td>\n",
       "      <td>8407500</td>\n",
       "      <td>AAL</td>\n",
       "    </tr>\n",
       "    <tr>\n",
       "      <th>1</th>\n",
       "      <td>2</td>\n",
       "      <td>2013-02-11</td>\n",
       "      <td>14.89</td>\n",
       "      <td>14.46</td>\n",
       "      <td>8882000</td>\n",
       "      <td>AAL</td>\n",
       "    </tr>\n",
       "  </tbody>\n",
       "</table>\n",
       "</div>"
      ],
      "text/plain": [
       "   stock_id        date   open  close   volume ticker\n",
       "0         1  2013-02-08  15.07  14.75  8407500    AAL\n",
       "1         2  2013-02-11  14.89  14.46  8882000    AAL"
      ]
     },
     "execution_count": 34,
     "metadata": {},
     "output_type": "execute_result"
    }
   ],
   "source": [
    "sql_stock_data = \"SELECT * FROM stocks_and_tweets.stock_data;\"\n",
    "df_stocks_data_sql = get_sql_dataframe(user_id, pwd, host_name, dst_dbname, sql_stock_data)\n",
    "df_stocks_data_sql.head(2)"
   ]
  },
  {
   "cell_type": "code",
   "execution_count": 35,
   "id": "893c6aa9",
   "metadata": {},
   "outputs": [
    {
     "data": {
      "text/html": [
       "<div>\n",
       "<style scoped>\n",
       "    .dataframe tbody tr th:only-of-type {\n",
       "        vertical-align: middle;\n",
       "    }\n",
       "\n",
       "    .dataframe tbody tr th {\n",
       "        vertical-align: top;\n",
       "    }\n",
       "\n",
       "    .dataframe thead th {\n",
       "        text-align: right;\n",
       "    }\n",
       "</style>\n",
       "<table border=\"1\" class=\"dataframe\">\n",
       "  <thead>\n",
       "    <tr style=\"text-align: right;\">\n",
       "      <th></th>\n",
       "      <th>tweet_id</th>\n",
       "      <th>sentiment</th>\n",
       "      <th>sentiment_conf</th>\n",
       "      <th>neg_reason</th>\n",
       "      <th>neg_conf</th>\n",
       "      <th>airline</th>\n",
       "      <th>retweet_count</th>\n",
       "      <th>tweet_date</th>\n",
       "    </tr>\n",
       "  </thead>\n",
       "  <tbody>\n",
       "    <tr>\n",
       "      <th>0</th>\n",
       "      <td>1</td>\n",
       "      <td>neutral</td>\n",
       "      <td>1.0</td>\n",
       "      <td></td>\n",
       "      <td></td>\n",
       "      <td>Virgin America</td>\n",
       "      <td>0</td>\n",
       "      <td>2015-02-24</td>\n",
       "    </tr>\n",
       "    <tr>\n",
       "      <th>1</th>\n",
       "      <td>2</td>\n",
       "      <td>positive</td>\n",
       "      <td>0.3486</td>\n",
       "      <td></td>\n",
       "      <td>0.0</td>\n",
       "      <td>Virgin America</td>\n",
       "      <td>0</td>\n",
       "      <td>2015-02-24</td>\n",
       "    </tr>\n",
       "  </tbody>\n",
       "</table>\n",
       "</div>"
      ],
      "text/plain": [
       "   tweet_id sentiment sentiment_conf neg_reason neg_conf         airline  \\\n",
       "0         1   neutral            1.0                      Virgin America   \n",
       "1         2  positive         0.3486                 0.0  Virgin America   \n",
       "\n",
       "  retweet_count  tweet_date  \n",
       "0             0  2015-02-24  \n",
       "1             0  2015-02-24  "
      ]
     },
     "execution_count": 35,
     "metadata": {},
     "output_type": "execute_result"
    }
   ],
   "source": [
    "sql_tweet_data = \"SELECT * FROM stocks_and_tweets.tweet_data;\"\n",
    "df_tweet_data_sql = get_sql_dataframe(user_id, pwd, host_name, dst_dbname, sql_tweet_data)\n",
    "df_tweet_data_sql.head(2)"
   ]
  },
  {
   "cell_type": "markdown",
   "id": "573b28e1",
   "metadata": {},
   "source": [
    "#### Summary Statistics (Row and column count)"
   ]
  },
  {
   "cell_type": "code",
   "execution_count": 36,
   "id": "ca3e859f",
   "metadata": {},
   "outputs": [
    {
     "name": "stdout",
     "output_type": "stream",
     "text": [
      "   stock_row_count\n",
      "0           219868\n"
     ]
    }
   ],
   "source": [
    "# Records Count for stock data\n",
    "sql_records_stock_count = \"SELECT count(*) AS stock_row_count FROM stocks_and_tweets.stock_data;\"\n",
    "df_records_stock_count = get_sql_dataframe(user_id, pwd, host_name, dst_dbname, sql_records_stock_count)\n",
    "print(df_records_stock_count)"
   ]
  },
  {
   "cell_type": "code",
   "execution_count": 37,
   "id": "ed37c0e0",
   "metadata": {},
   "outputs": [
    {
     "name": "stdout",
     "output_type": "stream",
     "text": [
      "   tweet_row_count\n",
      "0            14640\n"
     ]
    }
   ],
   "source": [
    "# Records Count for twitter data\n",
    "sql_records_tweet_count = \"SELECT count(*) AS tweet_row_count FROM stocks_and_tweets.tweet_data;\"\n",
    "df_records_tweet_count = get_sql_dataframe(user_id, pwd, host_name, dst_dbname, sql_records_tweet_count)\n",
    "print(df_records_tweet_count)"
   ]
  },
  {
   "cell_type": "code",
   "execution_count": 38,
   "id": "039f87c1",
   "metadata": {},
   "outputs": [
    {
     "name": "stdout",
     "output_type": "stream",
     "text": [
      "   stock_column_count\n",
      "0                   6\n"
     ]
    }
   ],
   "source": [
    "# Column count for stock data\n",
    "sql_column_stock_count = \"SELECT count(*) AS stock_column_count FROM information_schema.columns WHERE table_name = 'stock_data';\"\n",
    "df_column_stock_count = get_sql_dataframe(user_id, pwd, host_name, dst_dbname, sql_column_stock_count)\n",
    "print(df_column_stock_count)\n",
    "# Reference: https://stackoverflow.com/questions/658395/find-the-number-of-columns-in-a-table"
   ]
  },
  {
   "cell_type": "code",
   "execution_count": 39,
   "id": "57780365",
   "metadata": {},
   "outputs": [
    {
     "name": "stdout",
     "output_type": "stream",
     "text": [
      "   tweet_column_count\n",
      "0                   8\n"
     ]
    }
   ],
   "source": [
    "# Column Count for twitter data\n",
    "sql_column_tweet_count = \"SELECT count(*) AS tweet_column_count FROM information_schema.columns WHERE table_name = 'tweet_data';\"\n",
    "df_column_tweet_count = get_sql_dataframe(user_id, pwd, host_name, dst_dbname, sql_column_tweet_count)\n",
    "print(df_column_tweet_count)"
   ]
  },
  {
   "cell_type": "markdown",
   "id": "4c7da854",
   "metadata": {},
   "source": [
    "#### Extra Queries\n"
   ]
  },
  {
   "cell_type": "code",
   "execution_count": 40,
   "id": "74d3b97f",
   "metadata": {},
   "outputs": [
    {
     "name": "stdout",
     "output_type": "stream",
     "text": [
      "The number of tweets with positive sentiment from 2015-02-16 to 2015-02-24 are shown below: \n"
     ]
    },
    {
     "data": {
      "text/html": [
       "<div>\n",
       "<style scoped>\n",
       "    .dataframe tbody tr th:only-of-type {\n",
       "        vertical-align: middle;\n",
       "    }\n",
       "\n",
       "    .dataframe tbody tr th {\n",
       "        vertical-align: top;\n",
       "    }\n",
       "\n",
       "    .dataframe thead th {\n",
       "        text-align: right;\n",
       "    }\n",
       "</style>\n",
       "<table border=\"1\" class=\"dataframe\">\n",
       "  <thead>\n",
       "    <tr style=\"text-align: right;\">\n",
       "      <th></th>\n",
       "      <th>COUNT(*)</th>\n",
       "    </tr>\n",
       "  </thead>\n",
       "  <tbody>\n",
       "    <tr>\n",
       "      <th>0</th>\n",
       "      <td>2363</td>\n",
       "    </tr>\n",
       "  </tbody>\n",
       "</table>\n",
       "</div>"
      ],
      "text/plain": [
       "   COUNT(*)\n",
       "0      2363"
      ]
     },
     "execution_count": 40,
     "metadata": {},
     "output_type": "execute_result"
    }
   ],
   "source": [
    "sql_positive_count = \"SELECT COUNT(*) FROM stocks_and_tweets.tweet_data WHERE sentiment='positive';\"\n",
    "df_positive_count = get_sql_dataframe(user_id, pwd, host_name, dst_dbname, sql_positive_count)\n",
    "print(\"The number of tweets with positive sentiment from 2015-02-16 to 2015-02-24 are shown below: \")\n",
    "df_positive_count"
   ]
  },
  {
   "cell_type": "code",
   "execution_count": 41,
   "id": "bd4ba978",
   "metadata": {},
   "outputs": [
    {
     "name": "stdout",
     "output_type": "stream",
     "text": [
      "The number of tweets with negative sentiment from 2015-02-16 to 2015-02-24 are shown below: \n"
     ]
    },
    {
     "data": {
      "text/html": [
       "<div>\n",
       "<style scoped>\n",
       "    .dataframe tbody tr th:only-of-type {\n",
       "        vertical-align: middle;\n",
       "    }\n",
       "\n",
       "    .dataframe tbody tr th {\n",
       "        vertical-align: top;\n",
       "    }\n",
       "\n",
       "    .dataframe thead th {\n",
       "        text-align: right;\n",
       "    }\n",
       "</style>\n",
       "<table border=\"1\" class=\"dataframe\">\n",
       "  <thead>\n",
       "    <tr style=\"text-align: right;\">\n",
       "      <th></th>\n",
       "      <th>COUNT(*)</th>\n",
       "    </tr>\n",
       "  </thead>\n",
       "  <tbody>\n",
       "    <tr>\n",
       "      <th>0</th>\n",
       "      <td>9178</td>\n",
       "    </tr>\n",
       "  </tbody>\n",
       "</table>\n",
       "</div>"
      ],
      "text/plain": [
       "   COUNT(*)\n",
       "0      9178"
      ]
     },
     "execution_count": 41,
     "metadata": {},
     "output_type": "execute_result"
    }
   ],
   "source": [
    "sql_negative_count = \"SELECT COUNT(*) FROM stocks_and_tweets.tweet_data WHERE sentiment='negative';\"\n",
    "df_negative_count = get_sql_dataframe(user_id, pwd, host_name, dst_dbname, sql_negative_count)\n",
    "print(\"The number of tweets with negative sentiment from 2015-02-16 to 2015-02-24 are shown below: \")\n",
    "df_negative_count"
   ]
  },
  {
   "cell_type": "code",
   "execution_count": 42,
   "id": "a662ea49",
   "metadata": {},
   "outputs": [
    {
     "name": "stdout",
     "output_type": "stream",
     "text": [
      "Below is the sql query for American Airlines during that same short time period: \n"
     ]
    },
    {
     "data": {
      "text/html": [
       "<div>\n",
       "<style scoped>\n",
       "    .dataframe tbody tr th:only-of-type {\n",
       "        vertical-align: middle;\n",
       "    }\n",
       "\n",
       "    .dataframe tbody tr th {\n",
       "        vertical-align: top;\n",
       "    }\n",
       "\n",
       "    .dataframe thead th {\n",
       "        text-align: right;\n",
       "    }\n",
       "</style>\n",
       "<table border=\"1\" class=\"dataframe\">\n",
       "  <thead>\n",
       "    <tr style=\"text-align: right;\">\n",
       "      <th></th>\n",
       "      <th>open</th>\n",
       "      <th>close</th>\n",
       "      <th>ticker</th>\n",
       "      <th>date</th>\n",
       "    </tr>\n",
       "  </thead>\n",
       "  <tbody>\n",
       "    <tr>\n",
       "      <th>0</th>\n",
       "      <td>48.77</td>\n",
       "      <td>48.01</td>\n",
       "      <td>AAL</td>\n",
       "      <td>2015-02-17</td>\n",
       "    </tr>\n",
       "    <tr>\n",
       "      <th>1</th>\n",
       "      <td>48.6</td>\n",
       "      <td>49.31</td>\n",
       "      <td>AAL</td>\n",
       "      <td>2015-02-18</td>\n",
       "    </tr>\n",
       "    <tr>\n",
       "      <th>2</th>\n",
       "      <td>50.78</td>\n",
       "      <td>49.78</td>\n",
       "      <td>AAL</td>\n",
       "      <td>2015-02-19</td>\n",
       "    </tr>\n",
       "    <tr>\n",
       "      <th>3</th>\n",
       "      <td>49.81</td>\n",
       "      <td>51.02</td>\n",
       "      <td>AAL</td>\n",
       "      <td>2015-02-20</td>\n",
       "    </tr>\n",
       "    <tr>\n",
       "      <th>4</th>\n",
       "      <td>51.75</td>\n",
       "      <td>51.31</td>\n",
       "      <td>AAL</td>\n",
       "      <td>2015-02-23</td>\n",
       "    </tr>\n",
       "    <tr>\n",
       "      <th>5</th>\n",
       "      <td>50.29</td>\n",
       "      <td>51.52</td>\n",
       "      <td>AAL</td>\n",
       "      <td>2015-02-24</td>\n",
       "    </tr>\n",
       "  </tbody>\n",
       "</table>\n",
       "</div>"
      ],
      "text/plain": [
       "    open  close ticker        date\n",
       "0  48.77  48.01    AAL  2015-02-17\n",
       "1   48.6  49.31    AAL  2015-02-18\n",
       "2  50.78  49.78    AAL  2015-02-19\n",
       "3  49.81  51.02    AAL  2015-02-20\n",
       "4  51.75  51.31    AAL  2015-02-23\n",
       "5  50.29  51.52    AAL  2015-02-24"
      ]
     },
     "execution_count": 42,
     "metadata": {},
     "output_type": "execute_result"
    }
   ],
   "source": [
    "sql_aal_during_that_time = \"\"\"SELECT open, close, ticker, date\n",
    "                            FROM stocks_and_tweets.stock_data\n",
    "                            WHERE stock_data.ticker = 'AAL' AND\n",
    "                            DATE BETWEEN '2015-02-16' AND '2015-02-24';\"\"\"\n",
    "df_aal_during_that_time = get_sql_dataframe(user_id, pwd, host_name, dst_dbname, sql_aal_during_that_time)\n",
    "print(\"Below is the sql query for American Airlines during that same short time period: \")\n",
    "df_aal_during_that_time"
   ]
  },
  {
   "cell_type": "code",
   "execution_count": null,
   "id": "3d1efac0",
   "metadata": {},
   "outputs": [],
   "source": []
  }
 ],
 "metadata": {
  "kernelspec": {
   "display_name": "Python 3 (ipykernel)",
   "language": "python",
   "name": "python3"
  },
  "language_info": {
   "codemirror_mode": {
    "name": "ipython",
    "version": 3
   },
   "file_extension": ".py",
   "mimetype": "text/x-python",
   "name": "python",
   "nbconvert_exporter": "python",
   "pygments_lexer": "ipython3",
   "version": "3.9.7"
  }
 },
 "nbformat": 4,
 "nbformat_minor": 5
}
